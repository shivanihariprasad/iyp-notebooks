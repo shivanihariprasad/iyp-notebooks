{
 "cells": [
  {
   "cell_type": "code",
   "execution_count": null,
   "metadata": {},
   "outputs": [],
   "source": [
    "from neo4j import GraphDatabase, RoutingControl\n",
    "from collections import defaultdict\n",
    "\n",
    "# Using IYP local instance\n",
    "# URI = \"neo4j://localhost:7687\"\n",
    "# Using IYP public instance\n",
    "URI = \"neo4j://iyp-bolt.ihr.live:7687\"\n",
    "AUTH = ('neo4j', 'password')\n",
    "db = GraphDatabase.driver(URI, auth=AUTH)"
   ]
  },
  {
   "cell_type": "code",
   "execution_count": null,
   "metadata": {},
   "outputs": [],
   "source": [
    "query = \"\"\"MATCH (roa_as:AS)-[:ROUTE_ORIGIN_AUTHORIZATION]-(pfx:Prefix)\n",
    "WHERE NOT (pfx)-[:ORIGINATE]-(:AS)\n",
    "MATCH (roa_as)--(n:Name)\n",
    "RETURN pfx.prefix, roa_as.asn,n.name\n",
    "LIMIT 10\"\"\""
   ]
  },
  {
   "cell_type": "code",
   "execution_count": null,
   "metadata": {},
   "outputs": [],
   "source": [
    "#get the ixp of prefixes which appear in ROA but not in BGP \n",
    "query = \"\"\"MATCH (roa_as:AS)-[:ROUTE_ORIGIN_AUTHORIZATION]-(pfx:Prefix)\n",
    "WHERE NOT (pfx)-[:ORIGINATE]-(:AS)\n",
    "MATCH (roa_as)--(n:Name)\n",
    "MATCH (roa_as)-[:MEMBER_OF]-(ix:IXP)\n",
    "RETURN pfx.prefix, roa_as.asn,n.name, ix.name\n",
    "LIMIT 100\"\"\""
   ]
  },
  {
   "cell_type": "code",
   "execution_count": null,
   "metadata": {},
   "outputs": [],
   "source": [
    "query = '''MATCH p = (dn:DomainName)-[q:QUERIED_FROM]-(:Country {country_code:'RU'})\n",
    "WHERE dn.name ENDS WITH '.gov' AND q.value > 10\n",
    "RETURN p'''\n",
    "\n",
    "#query to find which govt websites from a country is queried the most from other countries and which are those countries"
   ]
  },
  {
   "cell_type": "code",
   "execution_count": null,
   "metadata": {},
   "outputs": [],
   "source": []
  }
 ],
 "metadata": {
  "kernelspec": {
   "display_name": "Python 3",
   "language": "python",
   "name": "python3"
  },
  "language_info": {
   "name": "python",
   "version": "3.12.3"
  }
 },
 "nbformat": 4,
 "nbformat_minor": 2
}
